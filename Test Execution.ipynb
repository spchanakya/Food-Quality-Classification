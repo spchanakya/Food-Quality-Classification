{
  "nbformat": 4,
  "nbformat_minor": 0,
  "metadata": {
    "colab": {
      "provenance": [],
      "authorship_tag": "ABX9TyOHFeP/wzYMtyJbvoJ/M1RB",
      "include_colab_link": true
    },
    "kernelspec": {
      "name": "python3",
      "display_name": "Python 3"
    },
    "language_info": {
      "name": "python"
    }
  },
  "cells": [
    {
      "cell_type": "markdown",
      "metadata": {
        "id": "view-in-github",
        "colab_type": "text"
      },
      "source": [
        "<a href=\"https://colab.research.google.com/github/spchanakya/Food-Quality-Classification/blob/main/Test%20Execution.ipynb\" target=\"_parent\"><img src=\"https://colab.research.google.com/assets/colab-badge.svg\" alt=\"Open In Colab\"/></a>"
      ]
    },
    {
      "cell_type": "code",
      "source": [
        "import numpy as np\n",
        "import pandas as pd"
      ],
      "metadata": {
        "id": "FTKD1-R9qPs2"
      },
      "execution_count": 6,
      "outputs": []
    },
    {
      "cell_type": "code",
      "execution_count": 1,
      "metadata": {
        "colab": {
          "base_uri": "https://localhost:8080/"
        },
        "id": "WbzdQ05Lc5UZ",
        "outputId": "a6b7146d-cbf9-49eb-a6db-dcbfbd987bcf"
      },
      "outputs": [
        {
          "output_type": "stream",
          "name": "stdout",
          "text": [
            "Cloning into 'Food-Quality-Classification'...\n",
            "remote: Enumerating objects: 17892, done.\u001b[K\n",
            "remote: Counting objects: 100% (34/34), done.\u001b[K\n",
            "remote: Compressing objects: 100% (26/26), done.\u001b[K\n",
            "remote: Total 17892 (delta 5), reused 32 (delta 4), pack-reused 17858\u001b[K\n",
            "Receiving objects: 100% (17892/17892), 348.32 MiB | 26.68 MiB/s, done.\n",
            "Resolving deltas: 100% (10/10), done.\n",
            "Updating files: 100% (17879/17879), done.\n"
          ]
        }
      ],
      "source": [
        "\n",
        "!git clone https://github.com/spchanakya/Food-Quality-Classification.git\n"
      ]
    },
    {
      "cell_type": "code",
      "source": [
        "\n",
        "#importing the best model 88% accuracy\n",
        "import keras\n",
        "from keras.models import load_model\n",
        "\n",
        "model = load_model('/content/Food-Quality-Classification/Final_Model')\n"
      ],
      "metadata": {
        "id": "flj9EGlQc-fl"
      },
      "execution_count": 2,
      "outputs": []
    },
    {
      "cell_type": "code",
      "source": [
        "Training_data = '/content/Food-Quality-Classification/Final_Dataset/Train' # This is a sample of the whole Training dataset I am using\n",
        "Test_data = '/content/Food-Quality-Classification/Final_Dataset/Test' # This is a sample of the whole test dataset I am using\n",
        "img_shape=(224,224) # target image size"
      ],
      "metadata": {
        "id": "hwBA_lY3pxTz"
      },
      "execution_count": 3,
      "outputs": []
    },
    {
      "cell_type": "code",
      "source": [
        "import os\n",
        "from PIL import Image\n",
        "def Create_DF(i):\n",
        "  folder_path=i\n",
        "  data = {'Image': [], 'FolderName': []}\n",
        "  for folder_name in os.listdir(folder_path):\n",
        "      folder_full_path = os.path.join(folder_path, folder_name)\n",
        "      if os.path.isdir(folder_full_path):\n",
        "          for image_file in os.listdir(folder_full_path):\n",
        "              if image_file.endswith('.jpg') or image_file.endswith('.png'):\n",
        "                  image_path = os.path.join(folder_full_path, image_file)\n",
        "                  img = Image.open(image_path)\n",
        "                  img = img.resize(img_shape)\n",
        "                  img_array = np.array(img)\n",
        "                  data['Image'].append(img_array)\n",
        "                  data['FolderName'].append(folder_name)\n",
        "  df = pd.DataFrame(data)\n",
        "  return df"
      ],
      "metadata": {
        "id": "2f9GKr-ap1IV"
      },
      "execution_count": 4,
      "outputs": []
    },
    {
      "cell_type": "code",
      "source": [
        "# creating the pandas dataframe from the Dataset\n",
        "Train_df=Create_DF(Training_data)\n",
        "Test_df=Create_DF(Test_data)"
      ],
      "metadata": {
        "id": "rR1yokqop3U8"
      },
      "execution_count": 7,
      "outputs": []
    },
    {
      "cell_type": "code",
      "source": [
        "\n",
        "Y_test = np.stack(Test_df['FolderName'].values)\n",
        "labels = pd.Categorical(Y_test)"
      ],
      "metadata": {
        "id": "XXNkYpBbqY1N"
      },
      "execution_count": 31,
      "outputs": []
    },
    {
      "cell_type": "markdown",
      "source": [
        "# predicting the label of test image"
      ],
      "metadata": {
        "id": "9z-vQnUvtkJs"
      }
    },
    {
      "cell_type": "code",
      "source": [
        "from PIL import Image\n",
        "import numpy as np\n",
        "import pandas as pd\n",
        "\n",
        "image_path='/content/Food-Quality-Classification/tstresize.jpeg'\n",
        "img = Image.open(image_path)\n",
        "img_shape = (224, 224)\n",
        "plt.imshow(img)\n",
        "img = img.resize(img_shape)  # Resize the image to the desired size\n",
        "img_array = np.array(img)\n",
        "reshaped_img = img_array.reshape(1, 224, 224, 3)\n",
        "y_pred_prob = model.predict(reshaped_img)\n",
        "y_pred_label = np.argmax(y_pred_prob, axis=1)\n",
        "y_pred_original_label = pd.Categorical.from_codes(y_pred_label, categories=labels.categories)\n",
        "print(\"Predicted lable of the tested type is \" + y_pred_original_label[0])\n"
      ],
      "metadata": {
        "colab": {
          "base_uri": "https://localhost:8080/"
        },
        "id": "FTrzb077dOV3",
        "outputId": "1a121562-05f0-40e8-fff3-bd91e701c064"
      },
      "execution_count": 40,
      "outputs": [
        {
          "output_type": "stream",
          "name": "stdout",
          "text": [
            "1/1 [==============================] - 1s 1s/step\n",
            "Predicted lable of the tested type is N_Rotten_Potato\n"
          ]
        }
      ]
    },
    {
      "cell_type": "code",
      "source": [],
      "metadata": {
        "id": "iaVQpkHkqzIl"
      },
      "execution_count": null,
      "outputs": []
    }
  ]
}
